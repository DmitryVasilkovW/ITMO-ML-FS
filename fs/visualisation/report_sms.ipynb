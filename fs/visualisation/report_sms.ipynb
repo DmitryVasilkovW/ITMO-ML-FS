{
 "cells": [
  {
   "metadata": {
    "jupyter": {
     "is_executing": true
    },
    "ExecuteTime": {
     "start_time": "2024-12-13T20:15:44.844460Z"
    }
   },
   "cell_type": "code",
   "source": [
    "from fs.evaluator.model_evaluator import ModelEvaluator\n",
    "from fs.visualisation.data_clustering import show_data\n",
    "from fs.visualisation.dataset_info import show_dataset_info\n",
    "from fs.visualisation.plot import show_plot\n",
    "import pandas as pd"
   ],
   "id": "6e2bca4036d51234",
   "outputs": [],
   "execution_count": null
  },
  {
   "metadata": {},
   "cell_type": "markdown",
   "source": "# For dataset SMS",
   "id": "af85ea8cb5f04da4"
  },
  {
   "metadata": {},
   "cell_type": "markdown",
   "source": "### Dataset info",
   "id": "7afcda7c73f22577"
  },
  {
   "metadata": {
    "jupyter": {
     "is_executing": true
    }
   },
   "cell_type": "code",
   "source": "show_dataset_info()",
   "id": "5c928c9cb75724d5",
   "outputs": [],
   "execution_count": null
  },
  {
   "metadata": {},
   "cell_type": "markdown",
   "source": "### Plot",
   "id": "c520ffa5affd95d2"
  },
  {
   "metadata": {
    "jupyter": {
     "is_executing": true
    }
   },
   "cell_type": "code",
   "source": "show_plot()",
   "id": "c8a2ba2104541615",
   "outputs": [],
   "execution_count": null
  },
  {
   "metadata": {},
   "cell_type": "markdown",
   "source": "### Accuracy comparison",
   "id": "47b3278242db2ddc"
  },
  {
   "metadata": {
    "jupyter": {
     "is_executing": true
    }
   },
   "cell_type": "code",
   "source": [
    "res = ModelEvaluator.get_results()\n",
    "print(pd.DataFrame(res))"
   ],
   "id": "891af724ca90ae0c",
   "outputs": [],
   "execution_count": null
  },
  {
   "metadata": {},
   "cell_type": "markdown",
   "source": "### Data clustering",
   "id": "4ed4ca6c48646f74"
  },
  {
   "metadata": {
    "jupyter": {
     "is_executing": true
    }
   },
   "cell_type": "code",
   "source": "show_data()",
   "id": "d55d2447969d2f14",
   "outputs": [],
   "execution_count": null
  }
 ],
 "metadata": {
  "kernelspec": {
   "display_name": "Python 3",
   "language": "python",
   "name": "python3"
  },
  "language_info": {
   "codemirror_mode": {
    "name": "ipython",
    "version": 2
   },
   "file_extension": ".py",
   "mimetype": "text/x-python",
   "name": "python",
   "nbconvert_exporter": "python",
   "pygments_lexer": "ipython2",
   "version": "2.7.6"
  }
 },
 "nbformat": 4,
 "nbformat_minor": 5
}
